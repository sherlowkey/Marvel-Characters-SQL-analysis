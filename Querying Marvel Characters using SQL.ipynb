{
 "cells": [
  {
   "cell_type": "markdown",
   "metadata": {},
   "source": [
    "## ANALYZING MARVEL CHARACTER STRENGTHS"
   ]
  },
  {
   "cell_type": "markdown",
   "metadata": {},
   "source": [
    "#### In this notebook, I am going to analyze Marvel characters using SQL "
   ]
  },
  {
   "cell_type": "markdown",
   "metadata": {},
   "source": [
    "I will be using SQL to store the data and to make queries using ipython-SQL in Jupyter Notebook.\n",
    "\n"
   ]
  },
  {
   "cell_type": "code",
   "execution_count": 1,
   "metadata": {},
   "outputs": [],
   "source": [
    "#importing the necessary libraries\n",
    "import pandas as pd\n",
    "import numpy as np\n",
    "import matplotlib.pyplot as plt\n"
   ]
  },
  {
   "cell_type": "markdown",
   "metadata": {},
   "source": [
    "## To install i-python SQL simply run this command"
   ]
  },
  {
   "cell_type": "code",
   "execution_count": 2,
   "metadata": {},
   "outputs": [
    {
     "name": "stdout",
     "output_type": "stream",
     "text": [
      "Requirement already satisfied: ipython-sql in /home/arjun/.local/lib/python3.8/site-packages (0.4.0)\n",
      "Requirement already satisfied: prettytable<1 in /home/arjun/.local/lib/python3.8/site-packages (from ipython-sql) (0.7.2)\n",
      "Requirement already satisfied: ipython>=1.0 in /usr/lib/python3/dist-packages (from ipython-sql) (7.13.0)\n",
      "Requirement already satisfied: sqlalchemy>=0.6.7 in /home/arjun/.local/lib/python3.8/site-packages (from ipython-sql) (1.3.19)\n",
      "Requirement already satisfied: sqlparse in /home/arjun/.local/lib/python3.8/site-packages (from ipython-sql) (0.3.1)\n",
      "Requirement already satisfied: ipython-genutils>=0.1.0 in /usr/lib/python3/dist-packages (from ipython-sql) (0.2.0)\n",
      "Requirement already satisfied: six in /usr/lib/python3/dist-packages (from ipython-sql) (1.14.0)\n",
      "Requirement already satisfied: pexpect in /usr/lib/python3/dist-packages (from ipython>=1.0->ipython-sql) (4.6.0)\n",
      "Note: you may need to restart the kernel to use updated packages.\n"
     ]
    }
   ],
   "source": [
    "!pip install ipython-sql"
   ]
  },
  {
   "cell_type": "markdown",
   "metadata": {},
   "source": [
    "### Loading the SQL module"
   ]
  },
  {
   "cell_type": "code",
   "execution_count": 3,
   "metadata": {},
   "outputs": [],
   "source": [
    "%load_ext sql"
   ]
  },
  {
   "cell_type": "markdown",
   "metadata": {},
   "source": [
    "## Creating a connection string to connect to the Database"
   ]
  },
  {
   "cell_type": "code",
   "execution_count": 4,
   "metadata": {},
   "outputs": [],
   "source": [
    "%sql sqlite://"
   ]
  },
  {
   "cell_type": "markdown",
   "metadata": {},
   "source": [
    "### Now, we're ready. Time to create a table and analyze ."
   ]
  },
  {
   "cell_type": "markdown",
   "metadata": {},
   "source": [
    "I've decided to name my table Marvels and then insert character informations. "
   ]
  },
  {
   "cell_type": "code",
   "execution_count": 5,
   "metadata": {},
   "outputs": [
    {
     "name": "stdout",
     "output_type": "stream",
     "text": [
      " * sqlite://\n",
      "Done.\n",
      "1 rows affected.\n",
      "1 rows affected.\n",
      "1 rows affected.\n",
      "1 rows affected.\n",
      "1 rows affected.\n",
      "1 rows affected.\n",
      "1 rows affected.\n",
      "1 rows affected.\n",
      "1 rows affected.\n",
      "1 rows affected.\n",
      "1 rows affected.\n",
      "1 rows affected.\n",
      "1 rows affected.\n",
      "1 rows affected.\n",
      "1 rows affected.\n",
      "1 rows affected.\n",
      "1 rows affected.\n",
      "1 rows affected.\n",
      "1 rows affected.\n",
      "1 rows affected.\n",
      "1 rows affected.\n",
      "1 rows affected.\n",
      "1 rows affected.\n",
      "1 rows affected.\n",
      "1 rows affected.\n",
      "1 rows affected.\n"
     ]
    },
    {
     "data": {
      "text/plain": [
       "[]"
      ]
     },
     "execution_count": 5,
     "metadata": {},
     "output_type": "execute_result"
    }
   ],
   "source": [
    "%%sql\n",
    "CREATE TABLE marvels (ID INTEGER PRIMARY KEY,\n",
    "    name TEXT,\n",
    "    popularity INTEGER,\n",
    "    alignment TEXT,\n",
    "    gender TEXT, \n",
    "    height_m NUMERIC,\n",
    "    weight_kg NUMERIC,\n",
    "    hometown TEXT,\n",
    "    intelligence INTEGER,\n",
    "    strength INTEGER,\n",
    "    speed INTEGER,\n",
    "    durability INTEGER,\n",
    "    energy_Projection INTEGER,\n",
    "    fighting_Skills INTEGER);\n",
    "    \n",
    "INSERT INTO marvels VALUES(1, \"Spider Man\", 1, \"Good\", \"Male\", 1.78, 75.75, \"USA\", 4, 4, 3, 3, 1, 4); \n",
    "INSERT INTO marvels VALUES(2, \"Iron Man\", 20, \"Neutral\", \"Male\", 1.98, 102.58, \"USA\", 6, 6, 5, 6, 6, 4); \n",
    "INSERT INTO marvels VALUES(3, \"Hulk\", 18, \"Neutral\", \"Male\", 2.44, 635.29, \"USA\", 1, 7, 3, 7, 5, 4); \n",
    "INSERT INTO marvels VALUES(4, \"Wolverine\", 3, \"Good\", \"Male\", 1.6, 88.46, \"Canada\", 2, 4, 2, 4, 1, 7);\n",
    "INSERT INTO marvels VALUES(5, \"Thor\", 5, \"Good\", \"Male\", 1.98, 290.3, \"Asgard\", 2, 7, 7, 6, 6, 4);\n",
    "INSERT INTO marvels VALUES(6, \"Green Goblin\", 91, \"Bad\", \"Male\", 1.93, 174.63, \"USA\", 4, 4, 3, 4, 3, 3);\n",
    "INSERT INTO marvels VALUES(7, \"Magneto\", 11, \"Neutral\", \"Male\", 1.88, 86.18, \"Germany\", 6, 3, 5, 4, 6, 4);\n",
    "INSERT INTO marvels VALUES(8, \"Thanos\", 47, \"Bad\", \"Male\", 2.01, 446.79, \"Titan\", 6, 7, 7, 6, 6, 4);\n",
    "INSERT INTO marvels VALUES(9, \"Loki\", 32, \"Bad\", \"Male\", 1.93, 238.14, \"Jotunheim\", 5, 5, 7, 6, 6, 3);\n",
    "INSERT INTO marvels VALUES(10, \"Doctor Doom\", 19, \"Bad\", \"Male\", 2.01, 188.24, \"Latveria\", 6, 4, 5, 6, 6, 4);\n",
    "INSERT INTO marvels VALUES(11, \"Jean Grey\", 8, \"Good\", \"Female\", 1.68, 52.16, \"USA\", 3, 2, 7, 7, 7, 4);\n",
    "INSERT INTO marvels VALUES(12, \"Rogue\", 4, \"Good\", \"Female\", 1.73, 54.43, \"USA\", 7, 7, 7, 7, 7, 7);\n",
    "INSERT INTO Marvels VALUES(13, \"Storm\", 2, \"Good\", \"Female\", 1.80, 66, \"Kenya\", 2, 2, 3, 2, 5, 4);\n",
    "INSERT INTO Marvels VALUES(14, \"Nightcrawler\", 6, \"Good\", \"Male\", 1.75, 73, \"Germany\", 3, 2, 7, 2, 1, 3);\n",
    "INSERT INTO Marvels VALUES(15, \"Gambit\", 7, \"Good\", \"Male\", 1.88, 81, \"EUA\", 2, 2, 2, 2, 2, 4);\n",
    "INSERT INTO Marvels VALUES(16, \"Captain America\", 9, \"Good\", \"Male\", 1.88, 108, \"EUA\", 3, 3, 2, 3, 1, 6);\n",
    "INSERT INTO Marvels VALUES(17, \"Cyclops\", 10, \"Good\", \"Male\", 1.90, 88, \"EUA\", 3, 2, 2, 2, 5, 4);\n",
    "INSERT INTO Marvels VALUES(18, \"Emma Frost\", 12, \"Neutral\", \"Female\", 1.78, 65, \"EUA\", 4, 4, 2, 5, 5, 3);\n",
    "INSERT INTO Marvels VALUES(19, \"Kitty Pryde\", 13, \"Good\", \"Female\", 1.68, 50, \"EUA\", 4, 2, 2, 3, 1, 5);\n",
    "INSERT INTO Marvels VALUES(20, \"Daredevil\", 14, \"Good\", \"Male\", 1.83, 91, \"EUA\", 3, 3, 2, 2, 4, 5);\n",
    "INSERT INTO Marvels VALUES(21, \"Punisher\", 50, \"Neutral\", \"Male\", 1.85, 91, \"EUA\", 3, 3, 2, 2, 1, 6);\n",
    "INSERT INTO Marvels VALUES(22, \"Silver Surfer\", 33, \"Good\", \"Male\", 1.93, 102, \"Zenn-La\", 3, 7, 7, 6, 7, 2);\n",
    "INSERT INTO Marvels VALUES(23, \"Ghost Rider\", 86, \"Good\", \"Male\", 1.88, 99, \"EUA\", 2, 4, 3, 5, 4, 2);\n",
    "INSERT INTO Marvels VALUES(24, \"Venon\", 78, \"Neutral\", \"Male\", 1.90, 118, \"EUA\", 3, 4, 2, 6, 1, 4);\n",
    "INSERT INTO Marvels VALUES(25, \"Juggernaut\", 76, \"Neutral\", \"Male\", 2.87, 862, \"EUA\", 2, 7, 2, 7, 1, 4);\n",
    "INSERT INTO Marvels VALUES(26, \"Professor X\", 58, \"Good\", \"Male\", 1.83, 86, \"EUA\", 5, 2, 2, 2, 5, 3);"
   ]
  },
  {
   "cell_type": "code",
   "execution_count": 7,
   "metadata": {},
   "outputs": [],
   "source": [
    "#let's see the table"
   ]
  },
  {
   "cell_type": "code",
   "execution_count": 10,
   "metadata": {},
   "outputs": [
    {
     "name": "stdout",
     "output_type": "stream",
     "text": [
      " * sqlite://\n",
      "Done.\n"
     ]
    },
    {
     "data": {
      "text/html": [
       "<table>\n",
       "    <tr>\n",
       "        <th>ID</th>\n",
       "        <th>name</th>\n",
       "        <th>popularity</th>\n",
       "        <th>alignment</th>\n",
       "        <th>gender</th>\n",
       "        <th>height_m</th>\n",
       "        <th>weight_kg</th>\n",
       "        <th>hometown</th>\n",
       "        <th>intelligence</th>\n",
       "        <th>strength</th>\n",
       "        <th>speed</th>\n",
       "        <th>durability</th>\n",
       "        <th>energy_Projection</th>\n",
       "        <th>fighting_Skills</th>\n",
       "    </tr>\n",
       "    <tr>\n",
       "        <td>1</td>\n",
       "        <td>Spider Man</td>\n",
       "        <td>1</td>\n",
       "        <td>Good</td>\n",
       "        <td>Male</td>\n",
       "        <td>1.78</td>\n",
       "        <td>75.75</td>\n",
       "        <td>USA</td>\n",
       "        <td>4</td>\n",
       "        <td>4</td>\n",
       "        <td>3</td>\n",
       "        <td>3</td>\n",
       "        <td>1</td>\n",
       "        <td>4</td>\n",
       "    </tr>\n",
       "    <tr>\n",
       "        <td>2</td>\n",
       "        <td>Iron Man</td>\n",
       "        <td>20</td>\n",
       "        <td>Neutral</td>\n",
       "        <td>Male</td>\n",
       "        <td>1.98</td>\n",
       "        <td>102.58</td>\n",
       "        <td>USA</td>\n",
       "        <td>6</td>\n",
       "        <td>6</td>\n",
       "        <td>5</td>\n",
       "        <td>6</td>\n",
       "        <td>6</td>\n",
       "        <td>4</td>\n",
       "    </tr>\n",
       "    <tr>\n",
       "        <td>3</td>\n",
       "        <td>Hulk</td>\n",
       "        <td>18</td>\n",
       "        <td>Neutral</td>\n",
       "        <td>Male</td>\n",
       "        <td>2.44</td>\n",
       "        <td>635.29</td>\n",
       "        <td>USA</td>\n",
       "        <td>1</td>\n",
       "        <td>7</td>\n",
       "        <td>3</td>\n",
       "        <td>7</td>\n",
       "        <td>5</td>\n",
       "        <td>4</td>\n",
       "    </tr>\n",
       "    <tr>\n",
       "        <td>4</td>\n",
       "        <td>Wolverine</td>\n",
       "        <td>3</td>\n",
       "        <td>Good</td>\n",
       "        <td>Male</td>\n",
       "        <td>1.6</td>\n",
       "        <td>88.46</td>\n",
       "        <td>Canada</td>\n",
       "        <td>2</td>\n",
       "        <td>4</td>\n",
       "        <td>2</td>\n",
       "        <td>4</td>\n",
       "        <td>1</td>\n",
       "        <td>7</td>\n",
       "    </tr>\n",
       "    <tr>\n",
       "        <td>5</td>\n",
       "        <td>Thor</td>\n",
       "        <td>5</td>\n",
       "        <td>Good</td>\n",
       "        <td>Male</td>\n",
       "        <td>1.98</td>\n",
       "        <td>290.3</td>\n",
       "        <td>Asgard</td>\n",
       "        <td>2</td>\n",
       "        <td>7</td>\n",
       "        <td>7</td>\n",
       "        <td>6</td>\n",
       "        <td>6</td>\n",
       "        <td>4</td>\n",
       "    </tr>\n",
       "    <tr>\n",
       "        <td>6</td>\n",
       "        <td>Green Goblin</td>\n",
       "        <td>91</td>\n",
       "        <td>Bad</td>\n",
       "        <td>Male</td>\n",
       "        <td>1.93</td>\n",
       "        <td>174.63</td>\n",
       "        <td>USA</td>\n",
       "        <td>4</td>\n",
       "        <td>4</td>\n",
       "        <td>3</td>\n",
       "        <td>4</td>\n",
       "        <td>3</td>\n",
       "        <td>3</td>\n",
       "    </tr>\n",
       "    <tr>\n",
       "        <td>7</td>\n",
       "        <td>Magneto</td>\n",
       "        <td>11</td>\n",
       "        <td>Neutral</td>\n",
       "        <td>Male</td>\n",
       "        <td>1.88</td>\n",
       "        <td>86.18</td>\n",
       "        <td>Germany</td>\n",
       "        <td>6</td>\n",
       "        <td>3</td>\n",
       "        <td>5</td>\n",
       "        <td>4</td>\n",
       "        <td>6</td>\n",
       "        <td>4</td>\n",
       "    </tr>\n",
       "    <tr>\n",
       "        <td>8</td>\n",
       "        <td>Thanos</td>\n",
       "        <td>47</td>\n",
       "        <td>Bad</td>\n",
       "        <td>Male</td>\n",
       "        <td>2.01</td>\n",
       "        <td>446.79</td>\n",
       "        <td>Titan</td>\n",
       "        <td>6</td>\n",
       "        <td>7</td>\n",
       "        <td>7</td>\n",
       "        <td>6</td>\n",
       "        <td>6</td>\n",
       "        <td>4</td>\n",
       "    </tr>\n",
       "    <tr>\n",
       "        <td>9</td>\n",
       "        <td>Loki</td>\n",
       "        <td>32</td>\n",
       "        <td>Bad</td>\n",
       "        <td>Male</td>\n",
       "        <td>1.93</td>\n",
       "        <td>238.14</td>\n",
       "        <td>Jotunheim</td>\n",
       "        <td>5</td>\n",
       "        <td>5</td>\n",
       "        <td>7</td>\n",
       "        <td>6</td>\n",
       "        <td>6</td>\n",
       "        <td>3</td>\n",
       "    </tr>\n",
       "    <tr>\n",
       "        <td>10</td>\n",
       "        <td>Doctor Doom</td>\n",
       "        <td>19</td>\n",
       "        <td>Bad</td>\n",
       "        <td>Male</td>\n",
       "        <td>2.01</td>\n",
       "        <td>188.24</td>\n",
       "        <td>Latveria</td>\n",
       "        <td>6</td>\n",
       "        <td>4</td>\n",
       "        <td>5</td>\n",
       "        <td>6</td>\n",
       "        <td>6</td>\n",
       "        <td>4</td>\n",
       "    </tr>\n",
       "    <tr>\n",
       "        <td>11</td>\n",
       "        <td>Jean Grey</td>\n",
       "        <td>8</td>\n",
       "        <td>Good</td>\n",
       "        <td>Female</td>\n",
       "        <td>1.68</td>\n",
       "        <td>52.16</td>\n",
       "        <td>USA</td>\n",
       "        <td>3</td>\n",
       "        <td>2</td>\n",
       "        <td>7</td>\n",
       "        <td>7</td>\n",
       "        <td>7</td>\n",
       "        <td>4</td>\n",
       "    </tr>\n",
       "    <tr>\n",
       "        <td>12</td>\n",
       "        <td>Rogue</td>\n",
       "        <td>4</td>\n",
       "        <td>Good</td>\n",
       "        <td>Female</td>\n",
       "        <td>1.73</td>\n",
       "        <td>54.43</td>\n",
       "        <td>USA</td>\n",
       "        <td>7</td>\n",
       "        <td>7</td>\n",
       "        <td>7</td>\n",
       "        <td>7</td>\n",
       "        <td>7</td>\n",
       "        <td>7</td>\n",
       "    </tr>\n",
       "    <tr>\n",
       "        <td>13</td>\n",
       "        <td>Storm</td>\n",
       "        <td>2</td>\n",
       "        <td>Good</td>\n",
       "        <td>Female</td>\n",
       "        <td>1.8</td>\n",
       "        <td>66</td>\n",
       "        <td>Kenya</td>\n",
       "        <td>2</td>\n",
       "        <td>2</td>\n",
       "        <td>3</td>\n",
       "        <td>2</td>\n",
       "        <td>5</td>\n",
       "        <td>4</td>\n",
       "    </tr>\n",
       "    <tr>\n",
       "        <td>14</td>\n",
       "        <td>Nightcrawler</td>\n",
       "        <td>6</td>\n",
       "        <td>Good</td>\n",
       "        <td>Male</td>\n",
       "        <td>1.75</td>\n",
       "        <td>73</td>\n",
       "        <td>Germany</td>\n",
       "        <td>3</td>\n",
       "        <td>2</td>\n",
       "        <td>7</td>\n",
       "        <td>2</td>\n",
       "        <td>1</td>\n",
       "        <td>3</td>\n",
       "    </tr>\n",
       "    <tr>\n",
       "        <td>15</td>\n",
       "        <td>Gambit</td>\n",
       "        <td>7</td>\n",
       "        <td>Good</td>\n",
       "        <td>Male</td>\n",
       "        <td>1.88</td>\n",
       "        <td>81</td>\n",
       "        <td>EUA</td>\n",
       "        <td>2</td>\n",
       "        <td>2</td>\n",
       "        <td>2</td>\n",
       "        <td>2</td>\n",
       "        <td>2</td>\n",
       "        <td>4</td>\n",
       "    </tr>\n",
       "    <tr>\n",
       "        <td>16</td>\n",
       "        <td>Captain America</td>\n",
       "        <td>9</td>\n",
       "        <td>Good</td>\n",
       "        <td>Male</td>\n",
       "        <td>1.88</td>\n",
       "        <td>108</td>\n",
       "        <td>EUA</td>\n",
       "        <td>3</td>\n",
       "        <td>3</td>\n",
       "        <td>2</td>\n",
       "        <td>3</td>\n",
       "        <td>1</td>\n",
       "        <td>6</td>\n",
       "    </tr>\n",
       "    <tr>\n",
       "        <td>17</td>\n",
       "        <td>Cyclops</td>\n",
       "        <td>10</td>\n",
       "        <td>Good</td>\n",
       "        <td>Male</td>\n",
       "        <td>1.9</td>\n",
       "        <td>88</td>\n",
       "        <td>EUA</td>\n",
       "        <td>3</td>\n",
       "        <td>2</td>\n",
       "        <td>2</td>\n",
       "        <td>2</td>\n",
       "        <td>5</td>\n",
       "        <td>4</td>\n",
       "    </tr>\n",
       "    <tr>\n",
       "        <td>18</td>\n",
       "        <td>Emma Frost</td>\n",
       "        <td>12</td>\n",
       "        <td>Neutral</td>\n",
       "        <td>Female</td>\n",
       "        <td>1.78</td>\n",
       "        <td>65</td>\n",
       "        <td>EUA</td>\n",
       "        <td>4</td>\n",
       "        <td>4</td>\n",
       "        <td>2</td>\n",
       "        <td>5</td>\n",
       "        <td>5</td>\n",
       "        <td>3</td>\n",
       "    </tr>\n",
       "    <tr>\n",
       "        <td>19</td>\n",
       "        <td>Kitty Pryde</td>\n",
       "        <td>13</td>\n",
       "        <td>Good</td>\n",
       "        <td>Female</td>\n",
       "        <td>1.68</td>\n",
       "        <td>50</td>\n",
       "        <td>EUA</td>\n",
       "        <td>4</td>\n",
       "        <td>2</td>\n",
       "        <td>2</td>\n",
       "        <td>3</td>\n",
       "        <td>1</td>\n",
       "        <td>5</td>\n",
       "    </tr>\n",
       "    <tr>\n",
       "        <td>20</td>\n",
       "        <td>Daredevil</td>\n",
       "        <td>14</td>\n",
       "        <td>Good</td>\n",
       "        <td>Male</td>\n",
       "        <td>1.83</td>\n",
       "        <td>91</td>\n",
       "        <td>EUA</td>\n",
       "        <td>3</td>\n",
       "        <td>3</td>\n",
       "        <td>2</td>\n",
       "        <td>2</td>\n",
       "        <td>4</td>\n",
       "        <td>5</td>\n",
       "    </tr>\n",
       "    <tr>\n",
       "        <td>21</td>\n",
       "        <td>Punisher</td>\n",
       "        <td>50</td>\n",
       "        <td>Neutral</td>\n",
       "        <td>Male</td>\n",
       "        <td>1.85</td>\n",
       "        <td>91</td>\n",
       "        <td>EUA</td>\n",
       "        <td>3</td>\n",
       "        <td>3</td>\n",
       "        <td>2</td>\n",
       "        <td>2</td>\n",
       "        <td>1</td>\n",
       "        <td>6</td>\n",
       "    </tr>\n",
       "    <tr>\n",
       "        <td>22</td>\n",
       "        <td>Silver Surfer</td>\n",
       "        <td>33</td>\n",
       "        <td>Good</td>\n",
       "        <td>Male</td>\n",
       "        <td>1.93</td>\n",
       "        <td>102</td>\n",
       "        <td>Zenn-La</td>\n",
       "        <td>3</td>\n",
       "        <td>7</td>\n",
       "        <td>7</td>\n",
       "        <td>6</td>\n",
       "        <td>7</td>\n",
       "        <td>2</td>\n",
       "    </tr>\n",
       "    <tr>\n",
       "        <td>23</td>\n",
       "        <td>Ghost Rider</td>\n",
       "        <td>86</td>\n",
       "        <td>Good</td>\n",
       "        <td>Male</td>\n",
       "        <td>1.88</td>\n",
       "        <td>99</td>\n",
       "        <td>EUA</td>\n",
       "        <td>2</td>\n",
       "        <td>4</td>\n",
       "        <td>3</td>\n",
       "        <td>5</td>\n",
       "        <td>4</td>\n",
       "        <td>2</td>\n",
       "    </tr>\n",
       "    <tr>\n",
       "        <td>24</td>\n",
       "        <td>Venon</td>\n",
       "        <td>78</td>\n",
       "        <td>Neutral</td>\n",
       "        <td>Male</td>\n",
       "        <td>1.9</td>\n",
       "        <td>118</td>\n",
       "        <td>EUA</td>\n",
       "        <td>3</td>\n",
       "        <td>4</td>\n",
       "        <td>2</td>\n",
       "        <td>6</td>\n",
       "        <td>1</td>\n",
       "        <td>4</td>\n",
       "    </tr>\n",
       "    <tr>\n",
       "        <td>25</td>\n",
       "        <td>Juggernaut</td>\n",
       "        <td>76</td>\n",
       "        <td>Neutral</td>\n",
       "        <td>Male</td>\n",
       "        <td>2.87</td>\n",
       "        <td>862</td>\n",
       "        <td>EUA</td>\n",
       "        <td>2</td>\n",
       "        <td>7</td>\n",
       "        <td>2</td>\n",
       "        <td>7</td>\n",
       "        <td>1</td>\n",
       "        <td>4</td>\n",
       "    </tr>\n",
       "    <tr>\n",
       "        <td>26</td>\n",
       "        <td>Professor X</td>\n",
       "        <td>58</td>\n",
       "        <td>Good</td>\n",
       "        <td>Male</td>\n",
       "        <td>1.83</td>\n",
       "        <td>86</td>\n",
       "        <td>EUA</td>\n",
       "        <td>5</td>\n",
       "        <td>2</td>\n",
       "        <td>2</td>\n",
       "        <td>2</td>\n",
       "        <td>5</td>\n",
       "        <td>3</td>\n",
       "    </tr>\n",
       "</table>"
      ],
      "text/plain": [
       "[(1, 'Spider Man', 1, 'Good', 'Male', 1.78, 75.75, 'USA', 4, 4, 3, 3, 1, 4),\n",
       " (2, 'Iron Man', 20, 'Neutral', 'Male', 1.98, 102.58, 'USA', 6, 6, 5, 6, 6, 4),\n",
       " (3, 'Hulk', 18, 'Neutral', 'Male', 2.44, 635.29, 'USA', 1, 7, 3, 7, 5, 4),\n",
       " (4, 'Wolverine', 3, 'Good', 'Male', 1.6, 88.46, 'Canada', 2, 4, 2, 4, 1, 7),\n",
       " (5, 'Thor', 5, 'Good', 'Male', 1.98, 290.3, 'Asgard', 2, 7, 7, 6, 6, 4),\n",
       " (6, 'Green Goblin', 91, 'Bad', 'Male', 1.93, 174.63, 'USA', 4, 4, 3, 4, 3, 3),\n",
       " (7, 'Magneto', 11, 'Neutral', 'Male', 1.88, 86.18, 'Germany', 6, 3, 5, 4, 6, 4),\n",
       " (8, 'Thanos', 47, 'Bad', 'Male', 2.01, 446.79, 'Titan', 6, 7, 7, 6, 6, 4),\n",
       " (9, 'Loki', 32, 'Bad', 'Male', 1.93, 238.14, 'Jotunheim', 5, 5, 7, 6, 6, 3),\n",
       " (10, 'Doctor Doom', 19, 'Bad', 'Male', 2.01, 188.24, 'Latveria', 6, 4, 5, 6, 6, 4),\n",
       " (11, 'Jean Grey', 8, 'Good', 'Female', 1.68, 52.16, 'USA', 3, 2, 7, 7, 7, 4),\n",
       " (12, 'Rogue', 4, 'Good', 'Female', 1.73, 54.43, 'USA', 7, 7, 7, 7, 7, 7),\n",
       " (13, 'Storm', 2, 'Good', 'Female', 1.8, 66, 'Kenya', 2, 2, 3, 2, 5, 4),\n",
       " (14, 'Nightcrawler', 6, 'Good', 'Male', 1.75, 73, 'Germany', 3, 2, 7, 2, 1, 3),\n",
       " (15, 'Gambit', 7, 'Good', 'Male', 1.88, 81, 'EUA', 2, 2, 2, 2, 2, 4),\n",
       " (16, 'Captain America', 9, 'Good', 'Male', 1.88, 108, 'EUA', 3, 3, 2, 3, 1, 6),\n",
       " (17, 'Cyclops', 10, 'Good', 'Male', 1.9, 88, 'EUA', 3, 2, 2, 2, 5, 4),\n",
       " (18, 'Emma Frost', 12, 'Neutral', 'Female', 1.78, 65, 'EUA', 4, 4, 2, 5, 5, 3),\n",
       " (19, 'Kitty Pryde', 13, 'Good', 'Female', 1.68, 50, 'EUA', 4, 2, 2, 3, 1, 5),\n",
       " (20, 'Daredevil', 14, 'Good', 'Male', 1.83, 91, 'EUA', 3, 3, 2, 2, 4, 5),\n",
       " (21, 'Punisher', 50, 'Neutral', 'Male', 1.85, 91, 'EUA', 3, 3, 2, 2, 1, 6),\n",
       " (22, 'Silver Surfer', 33, 'Good', 'Male', 1.93, 102, 'Zenn-La', 3, 7, 7, 6, 7, 2),\n",
       " (23, 'Ghost Rider', 86, 'Good', 'Male', 1.88, 99, 'EUA', 2, 4, 3, 5, 4, 2),\n",
       " (24, 'Venon', 78, 'Neutral', 'Male', 1.9, 118, 'EUA', 3, 4, 2, 6, 1, 4),\n",
       " (25, 'Juggernaut', 76, 'Neutral', 'Male', 2.87, 862, 'EUA', 2, 7, 2, 7, 1, 4),\n",
       " (26, 'Professor X', 58, 'Good', 'Male', 1.83, 86, 'EUA', 5, 2, 2, 2, 5, 3)]"
      ]
     },
     "execution_count": 10,
     "metadata": {},
     "output_type": "execute_result"
    }
   ],
   "source": [
    "%%sql\n",
    "SELECT * FROM MARVELS"
   ]
  },
  {
   "cell_type": "markdown",
   "metadata": {},
   "source": [
    "The table looks pretty good now let's start doing some EDA on it!!"
   ]
  },
  {
   "cell_type": "markdown",
   "metadata": {},
   "source": [
    "## Q) Which character has the maximum strength?"
   ]
  },
  {
   "cell_type": "code",
   "execution_count": 11,
   "metadata": {},
   "outputs": [
    {
     "name": "stdout",
     "output_type": "stream",
     "text": [
      " * sqlite://\n",
      "Done.\n"
     ]
    },
    {
     "data": {
      "text/html": [
       "<table>\n",
       "    <tr>\n",
       "        <th>name</th>\n",
       "        <th>MAX(STRENGTH)</th>\n",
       "    </tr>\n",
       "    <tr>\n",
       "        <td>Hulk</td>\n",
       "        <td>7</td>\n",
       "    </tr>\n",
       "</table>"
      ],
      "text/plain": [
       "[('Hulk', 7)]"
      ]
     },
     "execution_count": 11,
     "metadata": {},
     "output_type": "execute_result"
    }
   ],
   "source": [
    "%%sql\n",
    "SELECT NAME, MAX(STRENGTH) FROM MARVELS"
   ]
  },
  {
   "cell_type": "markdown",
   "metadata": {},
   "source": [
    "Thought so ! let's try more. "
   ]
  },
  {
   "cell_type": "markdown",
   "metadata": {},
   "source": [
    "## Q) Which Character has the most speed?"
   ]
  },
  {
   "cell_type": "code",
   "execution_count": 12,
   "metadata": {},
   "outputs": [
    {
     "name": "stdout",
     "output_type": "stream",
     "text": [
      " * sqlite://\n",
      "Done.\n"
     ]
    },
    {
     "data": {
      "text/html": [
       "<table>\n",
       "    <tr>\n",
       "        <th>name</th>\n",
       "        <th>MAX(SPEED)</th>\n",
       "    </tr>\n",
       "    <tr>\n",
       "        <td>Thor</td>\n",
       "        <td>7</td>\n",
       "    </tr>\n",
       "</table>"
      ],
      "text/plain": [
       "[('Thor', 7)]"
      ]
     },
     "execution_count": 12,
     "metadata": {},
     "output_type": "execute_result"
    }
   ],
   "source": [
    "%%sql\n",
    "SELECT NAME, MAX(SPEED) FROM MARVELS"
   ]
  },
  {
   "cell_type": "markdown",
   "metadata": {},
   "source": [
    "Cool ! So, Thor is the fastest character."
   ]
  },
  {
   "cell_type": "markdown",
   "metadata": {},
   "source": [
    "## Q) Which Character has the best fighting skills?\n"
   ]
  },
  {
   "cell_type": "code",
   "execution_count": 14,
   "metadata": {},
   "outputs": [
    {
     "name": "stdout",
     "output_type": "stream",
     "text": [
      " * sqlite://\n",
      "Done.\n"
     ]
    },
    {
     "data": {
      "text/html": [
       "<table>\n",
       "    <tr>\n",
       "        <th>name</th>\n",
       "        <th>MAX(FIGHTING_SKILLS)</th>\n",
       "    </tr>\n",
       "    <tr>\n",
       "        <td>Wolverine</td>\n",
       "        <td>7</td>\n",
       "    </tr>\n",
       "</table>"
      ],
      "text/plain": [
       "[('Wolverine', 7)]"
      ]
     },
     "execution_count": 14,
     "metadata": {},
     "output_type": "execute_result"
    }
   ],
   "source": [
    "%%sql\n",
    "SELECT NAME , MAX(FIGHTING_SKILLS) FROM MARVELS"
   ]
  },
  {
   "cell_type": "markdown",
   "metadata": {},
   "source": [
    "Very well. Wolverine is the winner here."
   ]
  },
  {
   "cell_type": "markdown",
   "metadata": {},
   "source": [
    "## Q) Which is the most intelligent character?\n"
   ]
  },
  {
   "cell_type": "code",
   "execution_count": 15,
   "metadata": {},
   "outputs": [
    {
     "name": "stdout",
     "output_type": "stream",
     "text": [
      " * sqlite://\n",
      "Done.\n"
     ]
    },
    {
     "data": {
      "text/html": [
       "<table>\n",
       "    <tr>\n",
       "        <th>name</th>\n",
       "        <th>MAX(INTELLIGENCE)</th>\n",
       "    </tr>\n",
       "    <tr>\n",
       "        <td>Rogue</td>\n",
       "        <td>7</td>\n",
       "    </tr>\n",
       "</table>"
      ],
      "text/plain": [
       "[('Rogue', 7)]"
      ]
     },
     "execution_count": 15,
     "metadata": {},
     "output_type": "execute_result"
    }
   ],
   "source": [
    "%%sql\n",
    "SELECT NAME , MAX(INTELLIGENCE) FROM MARVELS"
   ]
  },
  {
   "cell_type": "markdown",
   "metadata": {},
   "source": [
    "Rogue is the winner here."
   ]
  },
  {
   "cell_type": "markdown",
   "metadata": {},
   "source": [
    "## Q)What is the number of male heroes in our Data?"
   ]
  },
  {
   "cell_type": "code",
   "execution_count": 17,
   "metadata": {},
   "outputs": [
    {
     "name": "stdout",
     "output_type": "stream",
     "text": [
      " * sqlite://\n",
      "Done.\n"
     ]
    },
    {
     "data": {
      "text/html": [
       "<table>\n",
       "    <tr>\n",
       "        <th>NUMBER_OF_MALE_HEROES</th>\n",
       "    </tr>\n",
       "    <tr>\n",
       "        <td>21</td>\n",
       "    </tr>\n",
       "</table>"
      ],
      "text/plain": [
       "[(21,)]"
      ]
     },
     "execution_count": 17,
     "metadata": {},
     "output_type": "execute_result"
    }
   ],
   "source": [
    "%%sql\n",
    "SELECT COUNT(*) AS NUMBER_OF_MALE_HEROES FROM MARVELS WHERE GENDER =\"Male\""
   ]
  },
  {
   "cell_type": "markdown",
   "metadata": {},
   "source": [
    "## Q) Similarly count the number of female heroes in the Data"
   ]
  },
  {
   "cell_type": "code",
   "execution_count": 18,
   "metadata": {},
   "outputs": [
    {
     "name": "stdout",
     "output_type": "stream",
     "text": [
      " * sqlite://\n",
      "Done.\n"
     ]
    },
    {
     "data": {
      "text/html": [
       "<table>\n",
       "    <tr>\n",
       "        <th>NUMBER_OF_FEMALE_HEROES</th>\n",
       "    </tr>\n",
       "    <tr>\n",
       "        <td>5</td>\n",
       "    </tr>\n",
       "</table>"
      ],
      "text/plain": [
       "[(5,)]"
      ]
     },
     "execution_count": 18,
     "metadata": {},
     "output_type": "execute_result"
    }
   ],
   "source": [
    "%%sql \n",
    "SELECT COUNT(*) AS NUMBER_OF_FEMALE_HEROES FROM MARVELS WHERE GENDER=\"Female\""
   ]
  },
  {
   "cell_type": "markdown",
   "metadata": {},
   "source": [
    "### Wow! there's clearly a lot of bias visible"
   ]
  },
  {
   "cell_type": "markdown",
   "metadata": {},
   "source": [
    "Anyways, moving on."
   ]
  },
  {
   "cell_type": "markdown",
   "metadata": {},
   "source": [
    "## Q) Display the number of good, bad and neutral character. "
   ]
  },
  {
   "cell_type": "code",
   "execution_count": 22,
   "metadata": {},
   "outputs": [
    {
     "name": "stdout",
     "output_type": "stream",
     "text": [
      " * sqlite://\n",
      "Done.\n"
     ]
    },
    {
     "data": {
      "text/html": [
       "<table>\n",
       "    <tr>\n",
       "        <th>Count</th>\n",
       "        <th>typeofchar</th>\n",
       "    </tr>\n",
       "    <tr>\n",
       "        <td>7</td>\n",
       "        <td>Neutral</td>\n",
       "    </tr>\n",
       "    <tr>\n",
       "        <td>4</td>\n",
       "        <td>bad</td>\n",
       "    </tr>\n",
       "    <tr>\n",
       "        <td>15</td>\n",
       "        <td>good</td>\n",
       "    </tr>\n",
       "</table>"
      ],
      "text/plain": [
       "[(7, 'Neutral'), (4, 'bad'), (15, 'good')]"
      ]
     },
     "execution_count": 22,
     "metadata": {},
     "output_type": "execute_result"
    }
   ],
   "source": [
    "%%sql\n",
    "SELECT COUNT(*) AS Count , CASE\n",
    "WHEN alignment==\"Bad\" then \"bad\" \n",
    "WHEN alignment==\"Good\" then \"good\" \n",
    "ELSE \"Neutral\"\n",
    "end \"typeofchar\"  from Marvels group by typeofchar;\n"
   ]
  },
  {
   "cell_type": "markdown",
   "metadata": {},
   "source": [
    "I guess it's a good thing that good characters are in abundance."
   ]
  },
  {
   "cell_type": "markdown",
   "metadata": {},
   "source": [
    "## Q) Select all the bad characters from USA"
   ]
  },
  {
   "cell_type": "code",
   "execution_count": 23,
   "metadata": {},
   "outputs": [
    {
     "name": "stdout",
     "output_type": "stream",
     "text": [
      " * sqlite://\n",
      "Done.\n"
     ]
    },
    {
     "data": {
      "text/html": [
       "<table>\n",
       "    <tr>\n",
       "        <th>name</th>\n",
       "        <th>hometown</th>\n",
       "    </tr>\n",
       "    <tr>\n",
       "        <td>Green Goblin</td>\n",
       "        <td>USA</td>\n",
       "    </tr>\n",
       "</table>"
      ],
      "text/plain": [
       "[('Green Goblin', 'USA')]"
      ]
     },
     "execution_count": 23,
     "metadata": {},
     "output_type": "execute_result"
    }
   ],
   "source": [
    "%%sql\n",
    "SELECT NAME , HOMETOWN FROM MARVELS WHERE ALIGNMENT==\"Bad\" AND HOMETOWN=\"USA\""
   ]
  },
  {
   "cell_type": "markdown",
   "metadata": {},
   "source": [
    "Just Green Goblin.\n"
   ]
  },
  {
   "cell_type": "markdown",
   "metadata": {},
   "source": [
    "Let's see all the characters from USA and their alignments."
   ]
  },
  {
   "cell_type": "code",
   "execution_count": 25,
   "metadata": {},
   "outputs": [
    {
     "name": "stdout",
     "output_type": "stream",
     "text": [
      " * sqlite://\n",
      "Done.\n"
     ]
    },
    {
     "data": {
      "text/html": [
       "<table>\n",
       "    <tr>\n",
       "        <th>name</th>\n",
       "        <th>hometown</th>\n",
       "        <th>alignment</th>\n",
       "    </tr>\n",
       "    <tr>\n",
       "        <td>Spider Man</td>\n",
       "        <td>USA</td>\n",
       "        <td>Good</td>\n",
       "    </tr>\n",
       "    <tr>\n",
       "        <td>Iron Man</td>\n",
       "        <td>USA</td>\n",
       "        <td>Neutral</td>\n",
       "    </tr>\n",
       "    <tr>\n",
       "        <td>Hulk</td>\n",
       "        <td>USA</td>\n",
       "        <td>Neutral</td>\n",
       "    </tr>\n",
       "    <tr>\n",
       "        <td>Green Goblin</td>\n",
       "        <td>USA</td>\n",
       "        <td>Bad</td>\n",
       "    </tr>\n",
       "    <tr>\n",
       "        <td>Jean Grey</td>\n",
       "        <td>USA</td>\n",
       "        <td>Good</td>\n",
       "    </tr>\n",
       "    <tr>\n",
       "        <td>Rogue</td>\n",
       "        <td>USA</td>\n",
       "        <td>Good</td>\n",
       "    </tr>\n",
       "</table>"
      ],
      "text/plain": [
       "[('Spider Man', 'USA', 'Good'),\n",
       " ('Iron Man', 'USA', 'Neutral'),\n",
       " ('Hulk', 'USA', 'Neutral'),\n",
       " ('Green Goblin', 'USA', 'Bad'),\n",
       " ('Jean Grey', 'USA', 'Good'),\n",
       " ('Rogue', 'USA', 'Good')]"
      ]
     },
     "execution_count": 25,
     "metadata": {},
     "output_type": "execute_result"
    }
   ],
   "source": [
    "%%sql\n",
    "SELECT NAME, HOMETOWN, ALIGNMENT FROM MARVELS WHERE HOMETOWN=\"USA\""
   ]
  },
  {
   "cell_type": "markdown",
   "metadata": {},
   "source": [
    "## Q) Select all the characters from USA or neutral."
   ]
  },
  {
   "cell_type": "code",
   "execution_count": 27,
   "metadata": {},
   "outputs": [
    {
     "name": "stdout",
     "output_type": "stream",
     "text": [
      " * sqlite://\n",
      "Done.\n"
     ]
    },
    {
     "data": {
      "text/html": [
       "<table>\n",
       "    <tr>\n",
       "        <th>NEUTRAL_CHARACTERS_OR_FROM_USA</th>\n",
       "    </tr>\n",
       "    <tr>\n",
       "        <td>Spider Man</td>\n",
       "    </tr>\n",
       "    <tr>\n",
       "        <td>Iron Man</td>\n",
       "    </tr>\n",
       "    <tr>\n",
       "        <td>Hulk</td>\n",
       "    </tr>\n",
       "    <tr>\n",
       "        <td>Green Goblin</td>\n",
       "    </tr>\n",
       "    <tr>\n",
       "        <td>Magneto</td>\n",
       "    </tr>\n",
       "    <tr>\n",
       "        <td>Jean Grey</td>\n",
       "    </tr>\n",
       "    <tr>\n",
       "        <td>Rogue</td>\n",
       "    </tr>\n",
       "    <tr>\n",
       "        <td>Emma Frost</td>\n",
       "    </tr>\n",
       "    <tr>\n",
       "        <td>Punisher</td>\n",
       "    </tr>\n",
       "    <tr>\n",
       "        <td>Venon</td>\n",
       "    </tr>\n",
       "    <tr>\n",
       "        <td>Juggernaut</td>\n",
       "    </tr>\n",
       "</table>"
      ],
      "text/plain": [
       "[('Spider Man',),\n",
       " ('Iron Man',),\n",
       " ('Hulk',),\n",
       " ('Green Goblin',),\n",
       " ('Magneto',),\n",
       " ('Jean Grey',),\n",
       " ('Rogue',),\n",
       " ('Emma Frost',),\n",
       " ('Punisher',),\n",
       " ('Venon',),\n",
       " ('Juggernaut',)]"
      ]
     },
     "execution_count": 27,
     "metadata": {},
     "output_type": "execute_result"
    }
   ],
   "source": [
    "%%sql\n",
    "SELECT NAME AS NEUTRAL_CHARACTERS_OR_FROM_USA FROM MARVELS WHERE ALIGNMENT=\"Neutral\" OR HOMETOWN= \"USA\""
   ]
  },
  {
   "cell_type": "markdown",
   "metadata": {},
   "source": [
    "Great!"
   ]
  },
  {
   "cell_type": "markdown",
   "metadata": {},
   "source": [
    "I will be adding more notebooks where I will do visualizations and EDA on this data. "
   ]
  }
 ],
 "metadata": {
  "kernelspec": {
   "display_name": "Python 3",
   "language": "python",
   "name": "python3"
  },
  "language_info": {
   "codemirror_mode": {
    "name": "ipython",
    "version": 3
   },
   "file_extension": ".py",
   "mimetype": "text/x-python",
   "name": "python",
   "nbconvert_exporter": "python",
   "pygments_lexer": "ipython3",
   "version": "3.8.2"
  }
 },
 "nbformat": 4,
 "nbformat_minor": 4
}
